{
 "cells": [
  {
   "cell_type": "code",
   "execution_count": 1,
   "id": "de173db7-9840-4d3f-b3e2-4fa16921c04c",
   "metadata": {},
   "outputs": [],
   "source": [
    "# Code below is a hack of various other works, inclduing:\n",
    "# https://github.com/daewoung/Vision-Transformer-MNIST-Pytorch-Lightning/tree/main\n",
    "# Pytorch Lightning: https://odsc.medium.com/higher-level-pytorch-apis-a-short-introduction-to-pytorch-lightning-47b31c7a45de\n",
    "# https://www.datacamp.com/tutorial/building-a-transformer-with-py-torch\n",
    "# https://medium.com/mlearning-ai/vision-transformers-from-scratch-pytorch-a-step-by-step-guide-96c3313c2e0c\n",
    "# CNNs: https://www.tomasbeuzen.com/deep-learning-with-pytorch/\n",
    "# AE: https://www.geeksforgeeks.org/implementing-an-autoencoder-in-pytorch/"
   ]
  },
  {
   "cell_type": "code",
   "execution_count": 2,
   "id": "4ad30f73",
   "metadata": {},
   "outputs": [],
   "source": [
    "import os\n",
    "import torch\n",
    "from torch import nn\n",
    "from torch.utils.data import DataLoader, random_split\n",
    "from torchvision import datasets, transforms\n",
    "from torchvision.transforms import ToTensor, Lambda\n",
    "\n",
    "torch.manual_seed(0)\n",
    "\n",
    "device = 'cuda' if torch.cuda.is_available() else 'cpu'\n",
    "\n",
    "import matplotlib.pyplot as plt\n",
    "import pytorch_lightning as pl\n",
    "import numpy as np\n",
    "\n",
    "from einops.layers.torch import Reduce"
   ]
  },
  {
   "cell_type": "code",
   "execution_count": 3,
   "id": "ee4a903d",
   "metadata": {},
   "outputs": [],
   "source": [
    "batch_size = 128\n",
    "learning_rate = 1e-3\n",
    "epochs = 25 # 100\n",
    "\n",
    "training_data = datasets.MNIST(\n",
    "    root=\"data\",\n",
    "    train=True,\n",
    "    download=True,\n",
    "    transform=ToTensor()\n",
    ")\n",
    "\n",
    "test_data = datasets.MNIST(\n",
    "    root=\"data\",\n",
    "    train=False,\n",
    "    download=True,\n",
    "    transform=ToTensor()\n",
    ")\n",
    "\n",
    "train_dataset, val_dataset = random_split(training_data, [55000, 5000])\n",
    "\n",
    "train_dataloader = DataLoader(train_dataset, batch_size=batch_size, num_workers=4)\n",
    "val_dataloader = DataLoader(val_dataset, batch_size=batch_size, num_workers=4)\n",
    "test_dataloader = DataLoader(test_data, batch_size=batch_size, num_workers=4)"
   ]
  },
  {
   "cell_type": "code",
   "execution_count": 4,
   "id": "17d7360f",
   "metadata": {},
   "outputs": [],
   "source": [
    "# data, label = next(iter(train_dataloader))\n",
    "data, label = next(iter(test_dataloader))\n",
    "# data.size() # [128, 1, 28, 28]\n",
    "# len(train_dataloader) # 430\n",
    "# len(val_dataloader) # 40\n",
    "# len(test_dataloader) # 79"
   ]
  },
  {
   "cell_type": "code",
   "execution_count": 5,
   "id": "195755b6",
   "metadata": {
    "scrolled": true
   },
   "outputs": [
    {
     "data": {
      "text/plain": [
       "torch.Size([128, 1, 28, 28])"
      ]
     },
     "execution_count": 5,
     "metadata": {},
     "output_type": "execute_result"
    }
   ],
   "source": [
    "# data.shape # [batch_size, channel, width, height]"
   ]
  },
  {
   "cell_type": "code",
   "execution_count": 6,
   "id": "a12816d2",
   "metadata": {},
   "outputs": [
    {
     "data": {
      "text/plain": [
       "torch.Size([1, 28, 28])"
      ]
     },
     "execution_count": 6,
     "metadata": {},
     "output_type": "execute_result"
    }
   ],
   "source": [
    "data[0].shape"
   ]
  },
  {
   "cell_type": "code",
   "execution_count": 7,
   "id": "3d2e3dd9",
   "metadata": {},
   "outputs": [
    {
     "data": {
      "text/plain": [
       "tensor([7, 2, 1, 0, 4, 1, 4, 9, 5, 9, 0, 6, 9, 0, 1, 5, 9, 7, 3, 4, 9, 6, 6, 5,\n",
       "        4, 0, 7, 4, 0, 1, 3, 1, 3, 4, 7, 2, 7, 1, 2, 1, 1, 7, 4, 2, 3, 5, 1, 2,\n",
       "        4, 4, 6, 3, 5, 5, 6, 0, 4, 1, 9, 5, 7, 8, 9, 3, 7, 4, 6, 4, 3, 0, 7, 0,\n",
       "        2, 9, 1, 7, 3, 2, 9, 7, 7, 6, 2, 7, 8, 4, 7, 3, 6, 1, 3, 6, 9, 3, 1, 4,\n",
       "        1, 7, 6, 9, 6, 0, 5, 4, 9, 9, 2, 1, 9, 4, 8, 7, 3, 9, 7, 4, 4, 4, 9, 2,\n",
       "        5, 4, 7, 6, 7, 9, 0, 5])"
      ]
     },
     "execution_count": 7,
     "metadata": {},
     "output_type": "execute_result"
    }
   ],
   "source": [
    "label"
   ]
  },
  {
   "cell_type": "code",
   "execution_count": 8,
   "id": "b3c5251a",
   "metadata": {},
   "outputs": [
    {
     "data": {
      "text/plain": [
       "<matplotlib.image.AxesImage at 0x7fbb2deef4c0>"
      ]
     },
     "execution_count": 8,
     "metadata": {},
     "output_type": "execute_result"
    },
    {
     "data": {
      "image/png": "[encoded data removed]",
      "text/plain": [
       "<Figure size 640x480 with 1 Axes>"
      ]
     },
     "metadata": {},
     "output_type": "display_data"
    }
   ],
   "source": [
    "plt.imshow(data[12].reshape(28,28))"
   ]
  },
  {
   "cell_type": "code",
   "execution_count": 9,
   "id": "d2f13e97",
   "metadata": {},
   "outputs": [
    {
     "data": {
      "text/plain": [
       "torch.Size([1, 16, 7, 7])"
      ]
     },
     "execution_count": 9,
     "metadata": {},
     "output_type": "execute_result"
    }
   ],
   "source": [
    "project = nn.Conv2d(1, 16, kernel_size=4, stride=4)\n",
    "# in_chan = 1\n",
    "# kernel size = patch size \n",
    "# stride = patch size\n",
    "# self.emb_size = channel * patch size * Patch Size = 1 * 4 * 4 = 16\n",
    "project(data[0].unsqueeze(0)).shape # Images are divided into pathces"
   ]
  },
  {
   "cell_type": "code",
   "execution_count": 10,
   "id": "14988016",
   "metadata": {},
   "outputs": [],
   "source": [
    "class EmbeddingLayer(nn.Module):\n",
    "    def __init__(self,in_chan, img_size, patch_size, batch_size=128):\n",
    "        super().__init__()\n",
    "        self.num_patches = int(img_size / pow(patch_size, 2)) # 49\n",
    "        self.emb_size = in_chan * patch_size * patch_size # 16\n",
    "        self.project = nn.Conv2d(in_chan, self.emb_size, kernel_size= patch_size, stride=patch_size)\n",
    "        self.cls_token = nn.Parameter(torch.randn(1,1,self.emb_size))\n",
    "        self.positions = nn.Parameter(torch.randn(self.num_patches+ 1, self.emb_size)) # [50,16]\n",
    "    \n",
    " \n",
    "    def forward(self, x):\n",
    "        x = self.project(x)\n",
    "        x = x.view(-1, 49, 16) # [batch_size, 49, 16]\n",
    "        repeat_cls = self.cls_token.repeat(x.size()[0],1,1) #[batch_size, 1 , 16]\n",
    "        x = torch.cat((repeat_cls, x), dim=1)\n",
    "        x += self.positions\n",
    "        return x"
   ]
  },
  {
   "cell_type": "code",
   "execution_count": 11,
   "id": "cc4d3793",
   "metadata": {},
   "outputs": [],
   "source": [
    "class Multihead(nn.Module):\n",
    "    def __init__(self, emb_size, num_heads):\n",
    "        super().__init__()\n",
    "        self.multiheadattention = nn.MultiheadAttention(emb_size, num_heads, batch_first = True, dropout=0.2)\n",
    "        self.query = nn.Linear(emb_size, emb_size)\n",
    "        self.key = nn.Linear(emb_size, emb_size)\n",
    "        self.value = nn.Linear(emb_size, emb_size)\n",
    "\n",
    "    def forward(self, x):\n",
    "        query = self.query(x)\n",
    "        key = self.key(x)\n",
    "        value = self.value(x)\n",
    "        attn_output, attention = self.multiheadattention(query, key, value)\n",
    "        return attn_output, attention\n"
   ]
  },
  {
   "cell_type": "code",
   "execution_count": 12,
   "id": "e5120138",
   "metadata": {},
   "outputs": [],
   "source": [
    "class FeedForwardBlock(nn.Sequential):\n",
    "    def __init__(self, emb_size, expansion = 4, drop_p = 0.2):\n",
    "        super().__init__(\n",
    "            nn.Linear(emb_size, expansion * emb_size),\n",
    "            nn.GELU(),\n",
    "            nn.Dropout(drop_p),\n",
    "            nn.Linear(expansion * emb_size, emb_size)\n",
    "        )"
   ]
  },
  {
   "cell_type": "code",
   "execution_count": 13,
   "id": "5e63879c",
   "metadata": {},
   "outputs": [],
   "source": [
    "class VIT(nn.Module):\n",
    "    def __init__(self, emb_size = 16):\n",
    "        super().__init__()\n",
    "        self.embedding_layer = EmbeddingLayer(in_chan=1, img_size=28*28, patch_size=4)\n",
    "        self.Multihead = Multihead(emb_size, 8)\n",
    "        self.FFB = FeedForwardBlock(emb_size)\n",
    "        self.norm = nn.LayerNorm(emb_size)\n",
    "        \n",
    "    def forward(self, x):\n",
    "        x = self.embedding_layer(x)\n",
    "        \n",
    "        norm_x = self.norm(x)\n",
    "        multihead_output, attention = self.Multihead(norm_x)\n",
    "        \n",
    "        # residual Function\n",
    "        output = multihead_output + x\n",
    "        \n",
    "        norm_output = self.norm(output)\n",
    "        FFB = self.FFB(norm_output)\n",
    "        \n",
    "        final_out = FFB + output\n",
    "        \n",
    "        return final_out, attention"
   ]
  },
  {
   "cell_type": "code",
   "execution_count": 14,
   "id": "8529a20c",
   "metadata": {},
   "outputs": [],
   "source": [
    "class TransformerEncoder(nn.Module):\n",
    "    def __init__(self, n_layers, ):\n",
    "        super().__init__()\n",
    "        self.layers = nn.ModuleList([VIT() for _ in range(n_layers)])\n",
    "        \n",
    "    def forward(self, x):\n",
    "        for layer in self.layers:\n",
    "            final_out, attention = layer(x)\n",
    "        return final_out"
   ]
  },
  {
   "cell_type": "code",
   "execution_count": 15,
   "id": "c0d41aa1",
   "metadata": {
    "scrolled": true
   },
   "outputs": [],
   "source": [
    "class VIT_Encoder(pl.LightningModule):\n",
    "    def __init__(self):\n",
    "        super().__init__()\n",
    "        self.Encoder = nn.Sequential( TransformerEncoder(n_layers = 5) )\n",
    "        \n",
    "        self.Decoder = torch.nn.Sequential(\n",
    "            torch.nn.Linear(50 * 16, 256), # VIT has 50 x 16 output\n",
    "            torch.nn.ReLU(),\n",
    "            torch.nn.Linear(256, 512),\n",
    "            torch.nn.ReLU(),\n",
    "            torch.nn.Linear(512, 28 * 28),\n",
    "            torch.nn.Sigmoid()\n",
    "        )\n",
    "        \n",
    "        self.train_loss = []\n",
    "        self.val_loss = []\n",
    "        self.test_loss =[]\n",
    "        \n",
    "    def forward(self, x):\n",
    "        N = len(x) # batch_size\n",
    "        x = self.Encoder(x)\n",
    "        x = torch.reshape(x, (N, 50 * 16))\n",
    "        out_decoder = self.Decoder(x)\n",
    "        out_decoder = torch.reshape(out_decoder, (N, 1, 28, 28)) # 1 channel\n",
    "        return out_decoder\n",
    "\n",
    "    def training_step(self, batch):\n",
    "        images, classes = batch\n",
    "        reconstructed = self.forward(images)\n",
    "        loss_function = nn.MSELoss()\n",
    "        loss = loss_function(reconstructed, images)\n",
    "        self.train_loss.append(loss.item())\n",
    "        return loss\n",
    "        \n",
    "    def on_train_epoch_end(self):\n",
    "        mean_loss = sum(self.train_loss) / len(train_dataloader) \n",
    "        # print(f'training_loss :{mean_loss}')\n",
    "        self.train_loss = []\n",
    "    \n",
    "    def validation_step(self, batch):\n",
    "        images, classes = batch\n",
    "        reconstructed = self.forward(images)\n",
    "        loss_function = nn.MSELoss()\n",
    "        loss = loss_function(reconstructed, images)\n",
    "        self.val_loss.append(loss.item()) \n",
    "        return loss \n",
    "    \n",
    "    def on_validation_epoch_end(self):\n",
    "        mean_loss = sum(self.val_loss) / len(val_dataloader) \n",
    "        print(f'validation loss :{mean_loss}')\n",
    "        self.val_loss = []\n",
    "\n",
    "        self.log(\"val_loss\", mean_loss)     \n",
    "    \n",
    "    def test_dataloader(self):\n",
    "        return test_dataloader\n",
    "    \n",
    "    def test_step(self, batch):\n",
    "        images, classes = batch\n",
    "        reconstructed = self.forward(images)\n",
    "        loss_function = nn.MSELoss()\n",
    "        loss = loss_function(reconstructed, images)\n",
    "        self.test_loss.append(loss.item()) \n",
    "        \n",
    "    def on_test_epoch_end(self):\n",
    "        mean_loss = sum(self.test_loss) / len(test_dataloader) \n",
    "        print(f'val loss :{test_loss}')\n",
    "        self.test_loss = []\n",
    "    \n",
    "    def configure_optimizers(self):\n",
    "        return torch.optim.Adam(self.parameters(), lr=learning_rate)"
   ]
  },
  {
   "cell_type": "code",
   "execution_count": 19,
   "id": "188de8bd",
   "metadata": {
    "scrolled": true
   },
   "outputs": [],
   "source": [
    "# gpus = torch.cuda.device_count()\n",
    "# gpus # == 1"
   ]
  },
  {
   "cell_type": "code",
   "execution_count": 20,
   "id": "cc48a96a",
   "metadata": {},
   "outputs": [],
   "source": [
    "from pytorch_lightning.callbacks.early_stopping import EarlyStopping\n",
    "early_stop_callback = EarlyStopping(monitor='val_loss', mode='min', patience=5)"
   ]
  },
  {
   "cell_type": "code",
   "execution_count": 21,
   "id": "2966ac47",
   "metadata": {
    "scrolled": true
   },
   "outputs": [
    {
     "name": "stderr",
     "output_type": "stream",
     "text": [
      "GPU available: True (cuda), used: True\n",
      "TPU available: False, using: 0 TPU cores\n",
      "IPU available: False, using: 0 IPUs\n",
      "HPU available: False, using: 0 HPUs\n"
     ]
    }
   ],
   "source": [
    "model = VIT_Encoder()\n",
    "trainer = pl.Trainer(max_epochs=epochs, callbacks=[early_stop_callback])"
   ]
  },
  {
   "cell_type": "code",
   "execution_count": 22,
   "id": "b898dd54-a35c-463a-be9e-1fbfb98d64d8",
   "metadata": {
    "scrolled": true
   },
   "outputs": [
    {
     "name": "stderr",
     "output_type": "stream",
     "text": [
      "LOCAL_RANK: 0 - CUDA_VISIBLE_DEVICES: [0]\n",
      "\n",
      "  | Name    | Type       | Params\n",
      "---------------------------------------\n",
      "0 | Encoder | Sequential | 25.8 K\n",
      "1 | Decoder | Sequential | 738 K \n",
      "---------------------------------------\n",
      "764 K     Trainable params\n",
      "0         Non-trainable params\n",
      "764 K     Total params\n",
      "3.058     Total estimated model params size (MB)\n"
     ]
    },
    {
     "data": {
      "application/vnd.jupyter.widget-view+json": {
       "model_id": "",
       "version_major": 2,
       "version_minor": 0
      },
      "text/plain": [
       "Sanity Checking: |                                                                                            …"
      ]
     },
     "metadata": {},
     "output_type": "display_data"
    },
    {
     "name": "stderr",
     "output_type": "stream",
     "text": [
      "/home/hbolouri/.local/lib/python3.10/site-packages/pytorch_lightning/trainer/connectors/data_connector.py:441: The 'val_dataloader' does not have many workers which may be a bottleneck. Consider increasing the value of the `num_workers` argument` to `num_workers=63` in the `DataLoader` to improve performance.\n"
     ]
    },
    {
     "name": "stdout",
     "output_type": "stream",
     "text": [
      "validation loss :0.01162605695426464\n"
     ]
    },
    {
     "name": "stderr",
     "output_type": "stream",
     "text": [
      "/home/hbolouri/.local/lib/python3.10/site-packages/pytorch_lightning/trainer/connectors/data_connector.py:441: The 'train_dataloader' does not have many workers which may be a bottleneck. Consider increasing the value of the `num_workers` argument` to `num_workers=63` in the `DataLoader` to improve performance.\n"
     ]
    },
    {
     "data": {
      "application/vnd.jupyter.widget-view+json": {
       "model_id": "91741cd7d23846c1b598ce001a5f1798",
       "version_major": 2,
       "version_minor": 0
      },
      "text/plain": [
       "Training: |                                                                                                   …"
      ]
     },
     "metadata": {},
     "output_type": "display_data"
    },
    {
     "data": {
      "application/vnd.jupyter.widget-view+json": {
       "model_id": "",
       "version_major": 2,
       "version_minor": 0
      },
      "text/plain": [
       "Validation: |                                                                                                 …"
      ]
     },
     "metadata": {},
     "output_type": "display_data"
    },
    {
     "name": "stdout",
     "output_type": "stream",
     "text": [
      "validation loss :0.012764920014888048\n"
     ]
    },
    {
     "data": {
      "application/vnd.jupyter.widget-view+json": {
       "model_id": "",
       "version_major": 2,
       "version_minor": 0
      },
      "text/plain": [
       "Validation: |                                                                                                 …"
      ]
     },
     "metadata": {},
     "output_type": "display_data"
    },
    {
     "name": "stdout",
     "output_type": "stream",
     "text": [
      "validation loss :0.007446834340225905\n"
     ]
    },
    {
     "data": {
      "application/vnd.jupyter.widget-view+json": {
       "model_id": "",
       "version_major": 2,
       "version_minor": 0
      },
      "text/plain": [
       "Validation: |                                                                                                 …"
      ]
     },
     "metadata": {},
     "output_type": "display_data"
    },
    {
     "name": "stdout",
     "output_type": "stream",
     "text": [
      "validation loss :0.0055794261978007855\n"
     ]
    },
    {
     "data": {
      "application/vnd.jupyter.widget-view+json": {
       "model_id": "",
       "version_major": 2,
       "version_minor": 0
      },
      "text/plain": [
       "Validation: |                                                                                                 …"
      ]
     },
     "metadata": {},
     "output_type": "display_data"
    },
    {
     "name": "stdout",
     "output_type": "stream",
     "text": [
      "validation loss :0.004676848941016942\n"
     ]
    },
    {
     "data": {
      "application/vnd.jupyter.widget-view+json": {
       "model_id": "",
       "version_major": 2,
       "version_minor": 0
      },
      "text/plain": [
       "Validation: |                                                                                                 …"
      ]
     },
     "metadata": {},
     "output_type": "display_data"
    },
    {
     "name": "stdout",
     "output_type": "stream",
     "text": [
      "validation loss :0.004088360589230433\n"
     ]
    },
    {
     "data": {
      "application/vnd.jupyter.widget-view+json": {
       "model_id": "",
       "version_major": 2,
       "version_minor": 0
      },
      "text/plain": [
       "Validation: |                                                                                                 …"
      ]
     },
     "metadata": {},
     "output_type": "display_data"
    },
    {
     "name": "stdout",
     "output_type": "stream",
     "text": [
      "validation loss :0.0036702283076010646\n"
     ]
    },
    {
     "data": {
      "application/vnd.jupyter.widget-view+json": {
       "model_id": "",
       "version_major": 2,
       "version_minor": 0
      },
      "text/plain": [
       "Validation: |                                                                                                 …"
      ]
     },
     "metadata": {},
     "output_type": "display_data"
    },
    {
     "name": "stdout",
     "output_type": "stream",
     "text": [
      "validation loss :0.0033955821010749785\n"
     ]
    },
    {
     "data": {
      "application/vnd.jupyter.widget-view+json": {
       "model_id": "",
       "version_major": 2,
       "version_minor": 0
      },
      "text/plain": [
       "Validation: |                                                                                                 …"
      ]
     },
     "metadata": {},
     "output_type": "display_data"
    },
    {
     "name": "stdout",
     "output_type": "stream",
     "text": [
      "validation loss :0.003188793966546655\n"
     ]
    },
    {
     "data": {
      "application/vnd.jupyter.widget-view+json": {
       "model_id": "",
       "version_major": 2,
       "version_minor": 0
      },
      "text/plain": [
       "Validation: |                                                                                                 …"
      ]
     },
     "metadata": {},
     "output_type": "display_data"
    },
    {
     "name": "stdout",
     "output_type": "stream",
     "text": [
      "validation loss :0.003060649411054328\n"
     ]
    },
    {
     "data": {
      "application/vnd.jupyter.widget-view+json": {
       "model_id": "",
       "version_major": 2,
       "version_minor": 0
      },
      "text/plain": [
       "Validation: |                                                                                                 …"
      ]
     },
     "metadata": {},
     "output_type": "display_data"
    },
    {
     "name": "stdout",
     "output_type": "stream",
     "text": [
      "validation loss :0.002902262599673122\n"
     ]
    },
    {
     "data": {
      "application/vnd.jupyter.widget-view+json": {
       "model_id": "",
       "version_major": 2,
       "version_minor": 0
      },
      "text/plain": [
       "Validation: |                                                                                                 …"
      ]
     },
     "metadata": {},
     "output_type": "display_data"
    },
    {
     "name": "stdout",
     "output_type": "stream",
     "text": [
      "validation loss :0.0027932264900300654\n"
     ]
    },
    {
     "data": {
      "application/vnd.jupyter.widget-view+json": {
       "model_id": "",
       "version_major": 2,
       "version_minor": 0
      },
      "text/plain": [
       "Validation: |                                                                                                 …"
      ]
     },
     "metadata": {},
     "output_type": "display_data"
    },
    {
     "name": "stdout",
     "output_type": "stream",
     "text": [
      "validation loss :0.002663008915260434\n"
     ]
    },
    {
     "data": {
      "application/vnd.jupyter.widget-view+json": {
       "model_id": "",
       "version_major": 2,
       "version_minor": 0
      },
      "text/plain": [
       "Validation: |                                                                                                 …"
      ]
     },
     "metadata": {},
     "output_type": "display_data"
    },
    {
     "name": "stdout",
     "output_type": "stream",
     "text": [
      "validation loss :0.0025710257643368093\n"
     ]
    },
    {
     "data": {
      "application/vnd.jupyter.widget-view+json": {
       "model_id": "",
       "version_major": 2,
       "version_minor": 0
      },
      "text/plain": [
       "Validation: |                                                                                                 …"
      ]
     },
     "metadata": {},
     "output_type": "display_data"
    },
    {
     "name": "stdout",
     "output_type": "stream",
     "text": [
      "validation loss :0.0024931129766628144\n"
     ]
    },
    {
     "data": {
      "application/vnd.jupyter.widget-view+json": {
       "model_id": "",
       "version_major": 2,
       "version_minor": 0
      },
      "text/plain": [
       "Validation: |                                                                                                 …"
      ]
     },
     "metadata": {},
     "output_type": "display_data"
    },
    {
     "name": "stdout",
     "output_type": "stream",
     "text": [
      "validation loss :0.0024320015218108892\n"
     ]
    },
    {
     "data": {
      "application/vnd.jupyter.widget-view+json": {
       "model_id": "",
       "version_major": 2,
       "version_minor": 0
      },
      "text/plain": [
       "Validation: |                                                                                                 …"
      ]
     },
     "metadata": {},
     "output_type": "display_data"
    },
    {
     "name": "stdout",
     "output_type": "stream",
     "text": [
      "validation loss :0.0023724591126665475\n"
     ]
    },
    {
     "data": {
      "application/vnd.jupyter.widget-view+json": {
       "model_id": "",
       "version_major": 2,
       "version_minor": 0
      },
      "text/plain": [
       "Validation: |                                                                                                 …"
      ]
     },
     "metadata": {},
     "output_type": "display_data"
    },
    {
     "name": "stdout",
     "output_type": "stream",
     "text": [
      "validation loss :0.0023261783993802966\n"
     ]
    },
    {
     "data": {
      "application/vnd.jupyter.widget-view+json": {
       "model_id": "",
       "version_major": 2,
       "version_minor": 0
      },
      "text/plain": [
       "Validation: |                                                                                                 …"
      ]
     },
     "metadata": {},
     "output_type": "display_data"
    },
    {
     "name": "stdout",
     "output_type": "stream",
     "text": [
      "validation loss :0.0022922605858184397\n"
     ]
    },
    {
     "data": {
      "application/vnd.jupyter.widget-view+json": {
       "model_id": "",
       "version_major": 2,
       "version_minor": 0
      },
      "text/plain": [
       "Validation: |                                                                                                 …"
      ]
     },
     "metadata": {},
     "output_type": "display_data"
    },
    {
     "name": "stdout",
     "output_type": "stream",
     "text": [
      "validation loss :0.002258808130864054\n"
     ]
    },
    {
     "data": {
      "application/vnd.jupyter.widget-view+json": {
       "model_id": "",
       "version_major": 2,
       "version_minor": 0
      },
      "text/plain": [
       "Validation: |                                                                                                 …"
      ]
     },
     "metadata": {},
     "output_type": "display_data"
    },
    {
     "name": "stdout",
     "output_type": "stream",
     "text": [
      "validation loss :0.0022411159647163005\n"
     ]
    },
    {
     "data": {
      "application/vnd.jupyter.widget-view+json": {
       "model_id": "",
       "version_major": 2,
       "version_minor": 0
      },
      "text/plain": [
       "Validation: |                                                                                                 …"
      ]
     },
     "metadata": {},
     "output_type": "display_data"
    },
    {
     "name": "stdout",
     "output_type": "stream",
     "text": [
      "validation loss :0.0022073473839554934\n"
     ]
    },
    {
     "data": {
      "application/vnd.jupyter.widget-view+json": {
       "model_id": "",
       "version_major": 2,
       "version_minor": 0
      },
      "text/plain": [
       "Validation: |                                                                                                 …"
      ]
     },
     "metadata": {},
     "output_type": "display_data"
    },
    {
     "name": "stdout",
     "output_type": "stream",
     "text": [
      "validation loss :0.0021900124615058304\n"
     ]
    },
    {
     "data": {
      "application/vnd.jupyter.widget-view+json": {
       "model_id": "",
       "version_major": 2,
       "version_minor": 0
      },
      "text/plain": [
       "Validation: |                                                                                                 …"
      ]
     },
     "metadata": {},
     "output_type": "display_data"
    },
    {
     "name": "stdout",
     "output_type": "stream",
     "text": [
      "validation loss :0.002158056141342968\n"
     ]
    },
    {
     "data": {
      "application/vnd.jupyter.widget-view+json": {
       "model_id": "",
       "version_major": 2,
       "version_minor": 0
      },
      "text/plain": [
       "Validation: |                                                                                                 …"
      ]
     },
     "metadata": {},
     "output_type": "display_data"
    },
    {
     "name": "stdout",
     "output_type": "stream",
     "text": [
      "validation loss :0.0021422038262244314\n"
     ]
    },
    {
     "data": {
      "application/vnd.jupyter.widget-view+json": {
       "model_id": "",
       "version_major": 2,
       "version_minor": 0
      },
      "text/plain": [
       "Validation: |                                                                                                 …"
      ]
     },
     "metadata": {},
     "output_type": "display_data"
    },
    {
     "name": "stderr",
     "output_type": "stream",
     "text": [
      "`Trainer.fit` stopped: `max_epochs=25` reached.\n"
     ]
    },
    {
     "name": "stdout",
     "output_type": "stream",
     "text": [
      "validation loss :0.0021153843961656095\n"
     ]
    }
   ],
   "source": [
    "trainer.fit(model, train_dataloader, val_dataloaders=val_dataloader)"
   ]
  },
  {
   "cell_type": "code",
   "execution_count": 79,
   "id": "665f8380-3bc8-46e4-839c-a45e0c169922",
   "metadata": {},
   "outputs": [
    {
     "data": {
      "text/plain": [
       "<Figure size 640x480 with 0 Axes>"
      ]
     },
     "metadata": {},
     "output_type": "display_data"
    },
    {
     "data": {
      "image/png": "[encoded data removed]",
      "text/plain": [
       "<Figure size 640x480 with 4 Axes>"
      ]
     },
     "metadata": {},
     "output_type": "display_data"
    }
   ],
   "source": [
    "plt.figure()\n",
    "\n",
    "# subplots(n_rows, n_columns)\n",
    "fig, fig_list = plt.subplots(2, 2) \n",
    "\n",
    "exampleImage = next(iter(test_dataloader))[0][0]\n",
    "fig_list[0, 0].imshow(exampleImage.reshape(28,28))\n",
    "fig_list[0, 0].set_title('Test image 1')\n",
    "\n",
    "tmp = model.forward(exampleImage)\n",
    "tmp = tmp.detach().numpy()\n",
    "fig_list[0, 1].imshow(tmp.reshape(28,28))\n",
    "fig_list[0, 1].set_title('Reconstructed image 1')\n",
    "\n",
    "exampleImage = next(iter(test_dataloader))[0][4]\n",
    "fig_list[1, 0].imshow(exampleImage.reshape(28,28))\n",
    "fig_list[1, 0].set_title('Test image 2')\n",
    "\n",
    "tmp = model.forward(exampleImage)\n",
    "tmp = tmp.detach().numpy()\n",
    "fig_list[1, 1].imshow(tmp.reshape(28,28))\n",
    "fig_list[1, 1].set_title('Reconstructed image 2')\n",
    "\n",
    "# Hide x-axis labels and tick labels for top plots and y ticks for right plots.\n",
    "for ax in fig_list.flat:\n",
    "    ax.label_outer()"
   ]
  },
  {
   "cell_type": "code",
   "execution_count": 74,
   "id": "81a2bf12-d861-4fdc-a5cf-b6d4b825345d",
   "metadata": {},
   "outputs": [
    {
     "data": {
      "text/plain": [
       "<Figure size 640x480 with 0 Axes>"
      ]
     },
     "metadata": {},
     "output_type": "display_data"
    },
    {
     "data": {
      "image/png": "[encoded data removed]",
      "text/plain": [
       "<Figure size 900x900 with 4 Axes>"
      ]
     },
     "metadata": {},
     "output_type": "display_data"
    }
   ],
   "source": [
    "plt.figure()\n",
    "\n",
    "# subplots(n_rows, n_columns)\n",
    "fig, fig_list = plt.subplots(2, 2, figsize=(6,6), dpi= 150) \n",
    "\n",
    "\n",
    "# for convenince, manipulate an existing test image\n",
    "y = next(iter(test_dataloader))[0][0] \n",
    "y = y.reshape(28,28)\n",
    "\n",
    "for i in range(28):\n",
    "    y[i, :] = 0.0 # all pixels == 0\n",
    "\n",
    "# outer rectangle of 1's:\n",
    "y[0, :] = 1.0\n",
    "y[-1, :]= 1.0\n",
    "y[:, 0] = 1.0\n",
    "y[:, -1]= 1.0\n",
    "\n",
    "fig_list[0, 0].imshow(y)\n",
    "fig_list[0, 0].set_title('Input image 1')\n",
    "\n",
    "y = y.reshape(1, 28, 28)\n",
    "tmp = model.forward(y)\n",
    "tmp = tmp.detach().numpy()\n",
    "tmp = tmp.reshape(28,28)\n",
    "# plt.imshow(tmp)\n",
    "fig_list[1, 0].imshow(tmp)\n",
    "fig_list[1, 0].set_title('Output image 1')\n",
    "\n",
    "# Cross:\n",
    "y = next(iter(test_dataloader))[0][0] \n",
    "y = y.reshape(28,28)\n",
    "\n",
    "for i in range(28):\n",
    "    y[i, :] = 0.0 # all pixels == 0\n",
    "\n",
    "y[13:14, :] = 1.0\n",
    "y[:, 13:14] = 1.0\n",
    "\n",
    "fig_list[0, 1].imshow(y)\n",
    "fig_list[0, 1].set_title('Input image 2')\n",
    "\n",
    "y = y.reshape(1, 28, 28)\n",
    "tmp = model.forward(y)\n",
    "tmp = tmp.detach().numpy()\n",
    "tmp = tmp.reshape(28,28)\n",
    "# plt.imshow(tmp)\n",
    "fig_list[1, 1].imshow(tmp)\n",
    "fig_list[1, 1].set_title('Output image 2')\n",
    "\n",
    "\n",
    "# # vertical sides:\n",
    "# y[:, 0] = 1.0\n",
    "# y[:, -1]= 1.0\n",
    "\n",
    "# # horizontal sides:\n",
    "# y[0, :] = 1.0\n",
    "# y[-1, :]= 1.0\n",
    "\n",
    "# # 1 vertical:\n",
    "# y[:, 13:14] = 1.0\n",
    "\n",
    "# # 1 horizintal:\n",
    "# y[13:14, :] = 1.0\n",
    "\n",
    "for ax in fig_list.flat:\n",
    "    ax.label_outer()"
   ]
  },
  {
   "cell_type": "code",
   "execution_count": 77,
   "id": "f1e288eb-6504-44c6-b06f-a02ce6a8a278",
   "metadata": {},
   "outputs": [
    {
     "data": {
      "text/plain": [
       "<Figure size 640x480 with 0 Axes>"
      ]
     },
     "metadata": {},
     "output_type": "display_data"
    },
    {
     "data": {
      "image/png": "[encoded data removed]",
      "text/plain": [
       "<Figure size 900x900 with 4 Axes>"
      ]
     },
     "metadata": {},
     "output_type": "display_data"
    }
   ],
   "source": [
    "plt.figure()\n",
    "\n",
    "# subplots(n_rows, n_columns)\n",
    "fig, fig_list = plt.subplots(2, 2, figsize=(6,6), dpi= 150) \n",
    "\n",
    "\n",
    "# for convenince, reset a test image\n",
    "y = next(iter(test_dataloader))[0][0] \n",
    "y = y.reshape(28,28)\n",
    "\n",
    "for i in range(28):\n",
    "    y[i, :] = 0.0 # all pixels == 0\n",
    "\n",
    "# 1 vertical:\n",
    "y[:, 13:14] = 1.0\n",
    "\n",
    "fig_list[0, 0].imshow(y)\n",
    "fig_list[0, 0].set_title('Input image 3')\n",
    "\n",
    "y = y.reshape(1, 28, 28)\n",
    "tmp = model.forward(y)\n",
    "tmp = tmp.detach().numpy()\n",
    "tmp = tmp.reshape(28,28)\n",
    "# plt.imshow(tmp)\n",
    "fig_list[1, 0].imshow(tmp)\n",
    "fig_list[1, 0].set_title('Output image 3')\n",
    "\n",
    "# 1 horizintal:\n",
    "y = next(iter(test_dataloader))[0][0] \n",
    "y = y.reshape(28,28)\n",
    "\n",
    "for i in range(28):\n",
    "    y[i, :] = 0.0 # all pixels == 0\n",
    "\n",
    "y[13:14, :] = 1.0\n",
    "\n",
    "fig_list[0, 1].imshow(y)\n",
    "fig_list[0, 1].set_title('Input image 4')\n",
    "\n",
    "y = y.reshape(1, 28, 28)\n",
    "tmp = model.forward(y)\n",
    "tmp = tmp.detach().numpy()\n",
    "tmp = tmp.reshape(28,28)\n",
    "# plt.imshow(tmp)\n",
    "fig_list[1, 1].imshow(tmp)\n",
    "fig_list[1, 1].set_title('Output image 4')\n",
    "\n",
    "\n",
    "for ax in fig_list.flat:\n",
    "    ax.label_outer()"
   ]
  },
  {
   "cell_type": "code",
   "execution_count": 78,
   "id": "0afc0274-a67e-48f8-be77-e0603ef6c2c7",
   "metadata": {},
   "outputs": [
    {
     "data": {
      "text/plain": [
       "<Figure size 640x480 with 0 Axes>"
      ]
     },
     "metadata": {},
     "output_type": "display_data"
    },
    {
     "data": {
      "image/png": "[encoded data removed]",
      "text/plain": [
       "<Figure size 900x900 with 4 Axes>"
      ]
     },
     "metadata": {},
     "output_type": "display_data"
    }
   ],
   "source": [
    "plt.figure()\n",
    "\n",
    "# subplots(n_rows, n_columns)\n",
    "fig, fig_list = plt.subplots(2, 2, figsize=(6,6), dpi= 150) \n",
    "\n",
    "\n",
    "# for convenince, reset a test image\n",
    "y = next(iter(test_dataloader))[0][0] \n",
    "y = y.reshape(28,28)\n",
    "\n",
    "for i in range(28):\n",
    "    y[i, :] = 0.0 # all pixels == 0\n",
    "\n",
    "# horizontal sides:\n",
    "y[0, :] = 1.0\n",
    "y[-1, :]= 1.0\n",
    "\n",
    "fig_list[0, 0].imshow(y)\n",
    "fig_list[0, 0].set_title('Input image 5')\n",
    "\n",
    "y = y.reshape(1, 28, 28)\n",
    "tmp = model.forward(y)\n",
    "tmp = tmp.detach().numpy()\n",
    "tmp = tmp.reshape(28,28)\n",
    "# plt.imshow(tmp)\n",
    "fig_list[1, 0].imshow(tmp)\n",
    "fig_list[1, 0].set_title('Output image 5')\n",
    "\n",
    "# vertical sides:\n",
    "y = next(iter(test_dataloader))[0][0] \n",
    "y = y.reshape(28,28)\n",
    "\n",
    "for i in range(28):\n",
    "    y[i, :] = 0.0 # all pixels == 0\n",
    "\n",
    "y[:, 0] = 1.0\n",
    "y[:, -1]= 1.0\n",
    "\n",
    "fig_list[0, 1].imshow(y)\n",
    "fig_list[0, 1].set_title('Input image 6')\n",
    "\n",
    "y = y.reshape(1, 28, 28)\n",
    "tmp = model.forward(y)\n",
    "tmp = tmp.detach().numpy()\n",
    "tmp = tmp.reshape(28,28)\n",
    "# plt.imshow(tmp)\n",
    "fig_list[1, 1].imshow(tmp)\n",
    "fig_list[1, 1].set_title('Output image 6')\n",
    "\n",
    "\n",
    "# # 1 vertical:\n",
    "# y[:, 13:14] = 1.0\n",
    "\n",
    "# # 1 horizintal:\n",
    "# y[13:14, :] = 1.0\n",
    "\n",
    "for ax in fig_list.flat:\n",
    "    ax.label_outer()"
   ]
  },
  {
   "cell_type": "code",
   "execution_count": 25,
   "id": "ba5348cd",
   "metadata": {},
   "outputs": [
    {
     "data": {
      "text/plain": [
       "'/mnt/d/scGPT'"
      ]
     },
     "execution_count": 25,
     "metadata": {},
     "output_type": "execute_result"
    }
   ],
   "source": [
    "# trainer.test()\n",
    "os.getcwd()"
   ]
  },
  {
   "cell_type": "code",
   "execution_count": 31,
   "id": "e484792e-2c73-4111-9647-535a371f813c",
   "metadata": {},
   "outputs": [],
   "source": [
    "# Clear logs from previous runs\n",
    "# %rm -rf ./lightning_logs/OLD/"
   ]
  },
  {
   "cell_type": "code",
   "execution_count": 27,
   "id": "2682d866-e4e3-4724-a8bb-47920b0a9608",
   "metadata": {},
   "outputs": [
    {
     "data": {
      "text/html": [
       "\n",
       "      <iframe id=\"tensorboard-frame-f0bc7e8fe3446e26\" width=\"100%\" height=\"800\" frameborder=\"0\">\n",
       "      </iframe>\n",
       "      <script>\n",
       "        (function() {\n",
       "          const frame = document.getElementById(\"tensorboard-frame-f0bc7e8fe3446e26\");\n",
       "          const url = new URL(\"/\", window.location);\n",
       "          const port = 6006;\n",
       "          if (port) {\n",
       "            url.port = port;\n",
       "          }\n",
       "          frame.src = url;\n",
       "        })();\n",
       "      </script>\n",
       "    "
      ],
      "text/plain": [
       "<IPython.core.display.HTML object>"
      ]
     },
     "metadata": {},
     "output_type": "display_data"
    }
   ],
   "source": [
    "%load_ext tensorboard \n",
    "%tensorboard --logdir lightning_logs/"
   ]
  },
  {
   "cell_type": "code",
   "execution_count": 82,
   "id": "6364d350-0eb7-486e-b802-03b7bb67294b",
   "metadata": {},
   "outputs": [],
   "source": [
    "import pickle \n",
    "\n",
    "with open('mnist_ViT_AE4_model.pkl', 'wb') as f: \n",
    "    pickle.dump(model, f)\n",
    "\n",
    "f.close()"
   ]
  }
 ],
 "metadata": {
  "kernelspec": {
   "display_name": "iPyKernelHB",
   "language": "python",
   "name": "hbolouri"
  },
  "language_info": {
   "codemirror_mode": {
    "name": "ipython",
    "version": 3
   },
   "file_extension": ".py",
   "mimetype": "text/x-python",
   "name": "python",
   "nbconvert_exporter": "python",
   "pygments_lexer": "ipython3",
   "version": "3.10.11"
  }
 },
 "nbformat": 4,
 "nbformat_minor": 5
}
